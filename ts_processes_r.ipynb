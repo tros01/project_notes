{
 "cells": [
  {
   "cell_type": "markdown",
   "id": "a185dd25-242f-466e-9353-97553dcc9e6f",
   "metadata": {},
   "source": [
    "# Modelling stochastic processes in R\n",
    "\n",
    "- work in progress\n",
    "- relevant to time series and forecasting"
   ]
  },
  {
   "cell_type": "code",
   "execution_count": 1,
   "id": "11f02540-c3be-4a37-be8b-a504b58166d0",
   "metadata": {},
   "outputs": [
    {
     "name": "stderr",
     "output_type": "stream",
     "text": [
      "── \u001b[1mAttaching core tidyverse packages\u001b[22m ──────────────────────────────────────────────────────────────── tidyverse 2.0.0 ──\n",
      "\u001b[32m✔\u001b[39m \u001b[34mdplyr    \u001b[39m 1.1.4     \u001b[32m✔\u001b[39m \u001b[34mreadr    \u001b[39m 2.1.5\n",
      "\u001b[32m✔\u001b[39m \u001b[34mforcats  \u001b[39m 1.0.0     \u001b[32m✔\u001b[39m \u001b[34mstringr  \u001b[39m 1.5.1\n",
      "\u001b[32m✔\u001b[39m \u001b[34mggplot2  \u001b[39m 3.5.2     \u001b[32m✔\u001b[39m \u001b[34mtibble   \u001b[39m 3.3.0\n",
      "\u001b[32m✔\u001b[39m \u001b[34mlubridate\u001b[39m 1.9.4     \u001b[32m✔\u001b[39m \u001b[34mtidyr    \u001b[39m 1.3.1\n",
      "\u001b[32m✔\u001b[39m \u001b[34mpurrr    \u001b[39m 1.1.0     \n",
      "── \u001b[1mConflicts\u001b[22m ────────────────────────────────────────────────────────────────────────────────── tidyverse_conflicts() ──\n",
      "\u001b[31m✖\u001b[39m \u001b[34mdplyr\u001b[39m::\u001b[32mfilter()\u001b[39m masks \u001b[34mstats\u001b[39m::filter()\n",
      "\u001b[31m✖\u001b[39m \u001b[34mdplyr\u001b[39m::\u001b[32mlag()\u001b[39m    masks \u001b[34mstats\u001b[39m::lag()\n",
      "\u001b[36mℹ\u001b[39m Use the conflicted package (\u001b[3m\u001b[34m<http://conflicted.r-lib.org/>\u001b[39m\u001b[23m) to force all conflicts to become errors\n"
     ]
    }
   ],
   "source": [
    "# Libraries\n",
    "library(tidyverse)\n",
    "library(patchwork)\n",
    "\n",
    "# Draw seed\n",
    "set.seed(42)"
   ]
  },
  {
   "cell_type": "code",
   "execution_count": 2,
   "id": "b45d0284-df85-456d-9c6a-e8c5f5576b1d",
   "metadata": {},
   "outputs": [],
   "source": [
    "# Data\n",
    "sample_size <- 500"
   ]
  },
  {
   "cell_type": "markdown",
   "id": "b6ea1810-31ac-49f4-8c35-ebe2e7c5d596",
   "metadata": {},
   "source": [
    "## White noise (WN) process\n",
    "\n",
    "- $\\epsilon_t \\overset{\\text{i.i.d.}}{\\sim} \\mathcal{N}(0, \\sigma^2)$\n",
    "- $X_t = \\epsilon_t$\n",
    "- $\\mathbb{E}\\left[X_t\\right] = 0$\n",
    "- $\\text{Var}(X_t) = \\sigma^2$"
   ]
  },
  {
   "cell_type": "code",
   "execution_count": 3,
   "id": "16c1bcd0-e3a8-4e6b-99a1-51bd960a0f22",
   "metadata": {},
   "outputs": [],
   "source": [
    "# WN\n",
    "wn_series <- rnorm(sample_size, 0, 1)\n",
    "\n",
    "wn_df <- tibble(\n",
    "  period = seq_len(sample_size),\n",
    "  shock = wn_series\n",
    ")\n",
    "\n",
    "wn_plot <- ggplot(wn_df, aes(x = period, y = shock)) + \n",
    "  geom_line() + \n",
    "  labs(\n",
    "    title = \"White noise process\"\n",
    "  ) +\n",
    "  theme_minimal()"
   ]
  },
  {
   "cell_type": "markdown",
   "id": "717ea8d5-39e9-46d2-b3f1-db42225341cb",
   "metadata": {},
   "source": [
    "## Moving average (MA) process\n",
    "\n",
    "For an MA(1) process,\n",
    "\n",
    "- $\\epsilon_t \\overset{\\text{i.i.d.}}{\\sim} \\mathcal{N}(0, \\sigma^2)$\n",
    "- $X_t = \\theta \\epsilon_{t-1} + \\epsilon_t$\n",
    "- $\\mathbb{E}\\left[X_t\\right] = 0$\n",
    "- $\\text{Var}(X_t) = (1 + \\theta^2) \\sigma^2$\n",
    "- $\\rho(1)=\\frac{\\gamma(1)}{\\gamma(0)}=\\frac{\\theta}{1+\\theta^2}$\n",
    "- $\\rho(k)=\\frac{\\gamma(k)}{\\gamma(0)}=0, \\text{for } \\neq 1$"
   ]
  },
  {
   "cell_type": "code",
   "execution_count": 4,
   "id": "8678b444-aa42-43d7-a3d9-49e63aaf1f1f",
   "metadata": {},
   "outputs": [],
   "source": [
    "# MA(1)\n",
    "theta <- 0.5\n",
    "\n",
    "ma_df <- wn_df |>\n",
    "  mutate(\n",
    "    ma_observation = shock + theta * lag(shock)\n",
    "  ) |>\n",
    "  filter(!is.na(ma_observation))\n",
    "\n",
    "ma_plot <- ggplot(ma_df, aes(x = period, y = ma_observation)) + \n",
    "  geom_line() + \n",
    "  labs(\n",
    "    title = \"MA(1) process\"\n",
    "  ) + \n",
    "  theme_minimal()"
   ]
  },
  {
   "cell_type": "markdown",
   "id": "46512fe4-2360-434d-b7c7-0c0def2f40a2",
   "metadata": {},
   "source": [
    "## Random walk (RW) process\n",
    "\n",
    "- $\\epsilon_t \\overset{\\text{i.i.d.}}{\\sim} \\mathcal{N}(0, \\sigma^2)$\n",
    "- $X_t = \\sum_{i=0}^t \\epsilon_i$\n",
    "- $\\mathbb{E}\\left[X_t\\right]=0$\n",
    "- $\\text{Var}(X_t)=t\\sigma^2$"
   ]
  },
  {
   "cell_type": "code",
   "execution_count": 5,
   "id": "d4d42ee8-a599-4cfd-b745-58593f82d0e7",
   "metadata": {},
   "outputs": [],
   "source": [
    "# RW\n",
    "rw_df <- wn_df |>\n",
    "  mutate(\n",
    "    rw_observation = cumsum(shock)\n",
    "  )\n",
    "\n",
    "rw_plot <- ggplot(rw_df, aes(x = period, y = rw_observation)) + \n",
    "  geom_line() + \n",
    "  labs(\n",
    "    title = \"Random walk process\"\n",
    "  ) + \n",
    "  theme_minimal()"
   ]
  },
  {
   "cell_type": "markdown",
   "id": "fb2513e0-3309-4042-96a0-c3236d5e127f",
   "metadata": {},
   "source": [
    "## Autoregressive (AR) process\n",
    "\n",
    "For an AR(1) process,\n",
    "\n",
    "- $\\epsilon_t \\overset{\\text{i.i.d.}}{\\sim} \\mathcal{N}(0, \\sigma^2)$\n",
    "- $X_t=\\phi X_{t-1}+\\epsilon_t$\n",
    "- $\\mathbb{E}\\left[X_t\\right]=X_0$\n",
    "- $\\text{Var}(X_t)=\\sigma^2 \\sum_{t=0}^\\infty \\phi^{2t}=\\frac{\\sigma^2}{1-\\phi^2}$\n",
    "\n",
    "The series converges iff $|\\phi|<1$.\n",
    "\n",
    "Assuming stationarity, $\\mathbb{E}\\left[X_t\\right]=0$."
   ]
  },
  {
   "cell_type": "code",
   "execution_count": 6,
   "id": "c045d2db-dc8b-41c9-8f93-05db8e95fbc2",
   "metadata": {},
   "outputs": [],
   "source": [
    "# AR(1)\n",
    "phi <- 0.5\n",
    "\n",
    "ar_vector <- c()\n",
    "\n",
    "for (i in seq_along(wn_series)) {\n",
    "  if (i == 1) {\n",
    "    # X_0 = 0 + \\epsilon_0\n",
    "    ar_vector[1] <- 0 + wn_series[1]\n",
    "  } else {\n",
    "    # X_t = \\phi * X_{t-1} + \\epsilon_t\n",
    "    ar_vector[i] <- phi * ar_vector[i - 1] + wn_series[i]\n",
    "  }\n",
    "}\n",
    "\n",
    "ar_df <- wn_df |>\n",
    "  mutate(\n",
    "    ar_observation = ar_vector\n",
    "  )\n",
    "\n",
    "ar_plot <- ggplot(ar_df, aes(x = period, y = ar_observation)) + \n",
    "  geom_line() + \n",
    "  labs(\n",
    "    title = \"AR(1) process\"\n",
    "  ) + \n",
    "  theme_minimal()"
   ]
  },
  {
   "cell_type": "markdown",
   "id": "88a605e8-00b8-471f-8c48-de992f92ad38",
   "metadata": {},
   "source": [
    "## Random walk with a drift\n",
    "\n",
    "Random walk with a constant drift,\n",
    "\n",
    "- $\\epsilon_t \\overset{\\text{i.i.d.}}{\\sim} \\mathcal{N}(0, \\sigma^2)$\n",
    "- $X_t=\\delta t +\\sum_{i=1}^t \\epsilon_{i}$\n",
    "- $\\mathbb{E}\\left[X_t\\right]=\\delta t$\n",
    "- $\\text{Var}(X_t)=t\\sigma^2$"
   ]
  },
  {
   "cell_type": "code",
   "execution_count": 7,
   "id": "af3d284e-adc9-4b9a-ba45-9396e798c96f",
   "metadata": {},
   "outputs": [],
   "source": [
    "# Random walk with a constant drift (Special case of an I(1) process)\n",
    "delta <- 0.1 # Trend step (drift)\n",
    "\n",
    "rwd_vector <- c()\n",
    "\n",
    "for (i in seq_along(wn_series)) {\n",
    "  if (i == 1) {\n",
    "    # X_0 = \\delta t_{t=0} + 0 + \\epsilon_0\n",
    "    rwd_vector[1] <- delta + 0 + wn_series[1] # X_0\n",
    "  } else {\n",
    "    # Deterministic trend \\delta t + stochastic trend \\sum \\epsilon_t\n",
    "    rwd_vector[i] <- delta + rwd_vector[i - 1] + wn_series[i]\n",
    "  }\n",
    "}\n",
    "\n",
    "rwd_df <- ar_df |>\n",
    "  mutate(\n",
    "    rwd_observation = rwd_vector\n",
    "  )\n",
    "\n",
    "rwd_plot <- ggplot(rwd_df, aes(x = period, y = rwd_observation)) + \n",
    "  geom_line() + \n",
    "  labs(\n",
    "    title = \"Random walk with a constant drift\"\n",
    "  ) + \n",
    "  theme_minimal()"
   ]
  },
  {
   "cell_type": "markdown",
   "id": "92fa8415-c4cf-4717-9a62-5d98833975d0",
   "metadata": {},
   "source": [
    "## Integrated process\n",
    "\n",
    "An I(1) process with an MA component,\n",
    "\n",
    "- $\\epsilon_t \\overset{\\text{i.i.d.}}{\\sim} \\mathcal{N}(0, \\sigma^2)$\n",
    "- $X_t=\\delta t+\\sum_{i=1}^t (\\theta\\epsilon_{i-1} + \\epsilon_i)$\n",
    "- $\\mathbb{E}\\left[X_t\\right]=\\delta t$\n",
    "- $\\text{Var}(X_t)=\\sigma^2\\left[t(\\theta^2+1)+2(t-1)\\right]$"
   ]
  },
  {
   "cell_type": "code",
   "execution_count": 8,
   "id": "5cf87677-f332-40da-a4a3-49f23f8eb942",
   "metadata": {},
   "outputs": [],
   "source": [
    "# I(1) process\n",
    "delta <- 0.1 # Deterministic trend step\n",
    "theta <- 0.5 # Stochastic trend parameter\n",
    "\n",
    "dx <- delta + wn_series + theta * lag(wn_series)\n",
    "dx[1] <- delta + wn_series[1]\n",
    "\n",
    "i1_df <- wn_df |>\n",
    "  mutate(\n",
    "    i1_observation = cumsum(dx)\n",
    "  )\n",
    "\n",
    "i1_plot <- ggplot(i1_df, aes(x = period, y = i1_observation)) + \n",
    "  geom_line() + \n",
    "  labs(\n",
    "    title = \"I(1) process\"\n",
    "  ) + \n",
    "  theme_minimal()"
   ]
  },
  {
   "cell_type": "code",
   "execution_count": 9,
   "id": "7e162f75-4053-4629-98c7-2356a3aff013",
   "metadata": {},
   "outputs": [
    {
     "data": {
      "image/png": "[encoded data removed]",
      "text/plain": [
       "plot without title"
      ]
     },
     "metadata": {
      "image/png": {
       "height": 420,
       "width": 420
      }
     },
     "output_type": "display_data"
    }
   ],
   "source": [
    "# Plots\n",
    "print(\n",
    "  wrap_plots(\n",
    "    A = wn_plot, \n",
    "    B = ma_plot, \n",
    "    C = rw_plot, \n",
    "    D = ar_plot, \n",
    "    E = rwd_plot, \n",
    "    G = i1_plot, \n",
    "    design = \"AABB\\nCCDD\\nEEGG\"\n",
    "    )\n",
    "  )"
   ]
  },
  {
   "cell_type": "markdown",
   "id": "fc2e2176-5da1-4029-9046-20e2c7957308",
   "metadata": {},
   "source": [
    "## References:\n",
    "\n",
    "Cryer, D.J. and Chan, K.S. (2008) *Time Series Analysis with Applications in R*, 2nd edn. Berlin: Springer.\n",
    "\n",
    "Lütkepohl, H. and Krätzig, M. (2004) *Applied Time Series Econometrics*. Cambridge: Cambridge University Press.\n",
    "\n",
    "Neusser, K. (2016) *Time Series Econometrics*. Berlin: Springer.\n",
    "\n",
    "Pfaff, B. (2008) *Analysis of Integrated and Cointegrated Time Series with R*, 2nd edn. Berlin: Springer."
   ]
  }
 ],
 "metadata": {
  "kernelspec": {
   "display_name": "R",
   "language": "R",
   "name": "ir"
  },
  "language_info": {
   "codemirror_mode": "r",
   "file_extension": ".r",
   "mimetype": "text/x-r-source",
   "name": "R",
   "pygments_lexer": "r",
   "version": "4.5.1"
  }
 },
 "nbformat": 4,
 "nbformat_minor": 5
}
